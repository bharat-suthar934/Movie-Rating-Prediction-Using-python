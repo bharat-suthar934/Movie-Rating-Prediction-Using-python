{
 "cells": [
  {
   "cell_type": "markdown",
   "id": "03d1acae",
   "metadata": {},
   "source": [
    "Name: Bharat Suthar\n",
    "\n",
    "Batch: November\n",
    "\n",
    "Domain: Data Science"
   ]
  },
  {
   "cell_type": "code",
   "execution_count": 1,
   "id": "95c7e6ef",
   "metadata": {},
   "outputs": [],
   "source": [
    "import pandas as pd\n",
    "import numpy as np\n",
    "import matplotlib.pyplot as plt\n",
    "import seaborn as sns\n",
    "import warnings \n",
    "warnings.filterwarnings(\"ignore\")"
   ]
  },
  {
   "cell_type": "markdown",
   "id": "6be2a457",
   "metadata": {},
   "source": [
    "### Loading Dataset"
   ]
  },
  {
   "cell_type": "code",
   "execution_count": 2,
   "id": "5cbbbb0d",
   "metadata": {},
   "outputs": [],
   "source": [
    "df= pd.read_csv('D:\\CodeSoft projects\\Movie rating prediction with python\\IMDb Movies.csv',encoding='iso-8859-1')"
   ]
  },
  {
   "cell_type": "code",
   "execution_count": 3,
   "id": "6b6e3f43",
   "metadata": {
    "scrolled": false
   },
   "outputs": [
    {
     "data": {
      "text/html": [
       "<div>\n",
       "<style scoped>\n",
       "    .dataframe tbody tr th:only-of-type {\n",
       "        vertical-align: middle;\n",
       "    }\n",
       "\n",
       "    .dataframe tbody tr th {\n",
       "        vertical-align: top;\n",
       "    }\n",
       "\n",
       "    .dataframe thead th {\n",
       "        text-align: right;\n",
       "    }\n",
       "</style>\n",
       "<table border=\"1\" class=\"dataframe\">\n",
       "  <thead>\n",
       "    <tr style=\"text-align: right;\">\n",
       "      <th></th>\n",
       "      <th>Name</th>\n",
       "      <th>Year</th>\n",
       "      <th>Duration</th>\n",
       "      <th>Genre</th>\n",
       "      <th>Rating</th>\n",
       "      <th>Votes</th>\n",
       "      <th>Director</th>\n",
       "      <th>Actor 1</th>\n",
       "      <th>Actor 2</th>\n",
       "      <th>Actor 3</th>\n",
       "    </tr>\n",
       "  </thead>\n",
       "  <tbody>\n",
       "    <tr>\n",
       "      <th>0</th>\n",
       "      <td></td>\n",
       "      <td>NaN</td>\n",
       "      <td>NaN</td>\n",
       "      <td>Drama</td>\n",
       "      <td>NaN</td>\n",
       "      <td>NaN</td>\n",
       "      <td>J.S. Randhawa</td>\n",
       "      <td>Manmauji</td>\n",
       "      <td>Birbal</td>\n",
       "      <td>Rajendra Bhatia</td>\n",
       "    </tr>\n",
       "    <tr>\n",
       "      <th>1</th>\n",
       "      <td>#Gadhvi (He thought he was Gandhi)</td>\n",
       "      <td>(2019)</td>\n",
       "      <td>109 min</td>\n",
       "      <td>Drama</td>\n",
       "      <td>7.0</td>\n",
       "      <td>8</td>\n",
       "      <td>Gaurav Bakshi</td>\n",
       "      <td>Rasika Dugal</td>\n",
       "      <td>Vivek Ghamande</td>\n",
       "      <td>Arvind Jangid</td>\n",
       "    </tr>\n",
       "    <tr>\n",
       "      <th>2</th>\n",
       "      <td>#Homecoming</td>\n",
       "      <td>(2021)</td>\n",
       "      <td>90 min</td>\n",
       "      <td>Drama, Musical</td>\n",
       "      <td>NaN</td>\n",
       "      <td>NaN</td>\n",
       "      <td>Soumyajit Majumdar</td>\n",
       "      <td>Sayani Gupta</td>\n",
       "      <td>Plabita Borthakur</td>\n",
       "      <td>Roy Angana</td>\n",
       "    </tr>\n",
       "    <tr>\n",
       "      <th>3</th>\n",
       "      <td>#Yaaram</td>\n",
       "      <td>(2019)</td>\n",
       "      <td>110 min</td>\n",
       "      <td>Comedy, Romance</td>\n",
       "      <td>4.4</td>\n",
       "      <td>35</td>\n",
       "      <td>Ovais Khan</td>\n",
       "      <td>Prateik</td>\n",
       "      <td>Ishita Raj</td>\n",
       "      <td>Siddhant Kapoor</td>\n",
       "    </tr>\n",
       "    <tr>\n",
       "      <th>4</th>\n",
       "      <td>...And Once Again</td>\n",
       "      <td>(2010)</td>\n",
       "      <td>105 min</td>\n",
       "      <td>Drama</td>\n",
       "      <td>NaN</td>\n",
       "      <td>NaN</td>\n",
       "      <td>Amol Palekar</td>\n",
       "      <td>Rajat Kapoor</td>\n",
       "      <td>Rituparna Sengupta</td>\n",
       "      <td>Antara Mali</td>\n",
       "    </tr>\n",
       "  </tbody>\n",
       "</table>\n",
       "</div>"
      ],
      "text/plain": [
       "                                 Name    Year Duration            Genre  \\\n",
       "0                                         NaN      NaN            Drama   \n",
       "1  #Gadhvi (He thought he was Gandhi)  (2019)  109 min            Drama   \n",
       "2                         #Homecoming  (2021)   90 min   Drama, Musical   \n",
       "3                             #Yaaram  (2019)  110 min  Comedy, Romance   \n",
       "4                   ...And Once Again  (2010)  105 min            Drama   \n",
       "\n",
       "   Rating Votes            Director       Actor 1             Actor 2  \\\n",
       "0     NaN   NaN       J.S. Randhawa      Manmauji              Birbal   \n",
       "1     7.0     8       Gaurav Bakshi  Rasika Dugal      Vivek Ghamande   \n",
       "2     NaN   NaN  Soumyajit Majumdar  Sayani Gupta   Plabita Borthakur   \n",
       "3     4.4    35          Ovais Khan       Prateik          Ishita Raj   \n",
       "4     NaN   NaN        Amol Palekar  Rajat Kapoor  Rituparna Sengupta   \n",
       "\n",
       "           Actor 3  \n",
       "0  Rajendra Bhatia  \n",
       "1    Arvind Jangid  \n",
       "2       Roy Angana  \n",
       "3  Siddhant Kapoor  \n",
       "4      Antara Mali  "
      ]
     },
     "execution_count": 3,
     "metadata": {},
     "output_type": "execute_result"
    }
   ],
   "source": [
    "df.head()"
   ]
  },
  {
   "cell_type": "code",
   "execution_count": 4,
   "id": "8b0ff1c5",
   "metadata": {
    "scrolled": true
   },
   "outputs": [
    {
     "data": {
      "text/plain": [
       "Name           0\n",
       "Year         528\n",
       "Duration    8269\n",
       "Genre       1877\n",
       "Rating      7590\n",
       "Votes       7589\n",
       "Director     525\n",
       "Actor 1     1617\n",
       "Actor 2     2384\n",
       "Actor 3     3144\n",
       "dtype: int64"
      ]
     },
     "execution_count": 4,
     "metadata": {},
     "output_type": "execute_result"
    }
   ],
   "source": [
    "df.isnull().sum()"
   ]
  },
  {
   "cell_type": "markdown",
   "id": "c27c68d6",
   "metadata": {},
   "source": [
    "### Data PreProcessing"
   ]
  },
  {
   "cell_type": "markdown",
   "id": "a7c5bcd6",
   "metadata": {},
   "source": [
    "* Handling missing values in Dataset"
   ]
  },
  {
   "cell_type": "code",
   "execution_count": 5,
   "id": "f05f5315",
   "metadata": {},
   "outputs": [],
   "source": [
    "df.dropna(inplace=True)"
   ]
  },
  {
   "cell_type": "code",
   "execution_count": 6,
   "id": "dd56b3ae",
   "metadata": {
    "scrolled": true
   },
   "outputs": [
    {
     "data": {
      "text/html": [
       "<div>\n",
       "<style scoped>\n",
       "    .dataframe tbody tr th:only-of-type {\n",
       "        vertical-align: middle;\n",
       "    }\n",
       "\n",
       "    .dataframe tbody tr th {\n",
       "        vertical-align: top;\n",
       "    }\n",
       "\n",
       "    .dataframe thead th {\n",
       "        text-align: right;\n",
       "    }\n",
       "</style>\n",
       "<table border=\"1\" class=\"dataframe\">\n",
       "  <thead>\n",
       "    <tr style=\"text-align: right;\">\n",
       "      <th></th>\n",
       "      <th>Name</th>\n",
       "      <th>Year</th>\n",
       "      <th>Duration</th>\n",
       "      <th>Genre</th>\n",
       "      <th>Rating</th>\n",
       "      <th>Votes</th>\n",
       "      <th>Director</th>\n",
       "      <th>Actor 1</th>\n",
       "      <th>Actor 2</th>\n",
       "      <th>Actor 3</th>\n",
       "    </tr>\n",
       "  </thead>\n",
       "  <tbody>\n",
       "    <tr>\n",
       "      <th>1</th>\n",
       "      <td>#Gadhvi (He thought he was Gandhi)</td>\n",
       "      <td>(2019)</td>\n",
       "      <td>109 min</td>\n",
       "      <td>Drama</td>\n",
       "      <td>7.0</td>\n",
       "      <td>8</td>\n",
       "      <td>Gaurav Bakshi</td>\n",
       "      <td>Rasika Dugal</td>\n",
       "      <td>Vivek Ghamande</td>\n",
       "      <td>Arvind Jangid</td>\n",
       "    </tr>\n",
       "    <tr>\n",
       "      <th>3</th>\n",
       "      <td>#Yaaram</td>\n",
       "      <td>(2019)</td>\n",
       "      <td>110 min</td>\n",
       "      <td>Comedy, Romance</td>\n",
       "      <td>4.4</td>\n",
       "      <td>35</td>\n",
       "      <td>Ovais Khan</td>\n",
       "      <td>Prateik</td>\n",
       "      <td>Ishita Raj</td>\n",
       "      <td>Siddhant Kapoor</td>\n",
       "    </tr>\n",
       "    <tr>\n",
       "      <th>5</th>\n",
       "      <td>...Aur Pyaar Ho Gaya</td>\n",
       "      <td>(1997)</td>\n",
       "      <td>147 min</td>\n",
       "      <td>Comedy, Drama, Musical</td>\n",
       "      <td>4.7</td>\n",
       "      <td>827</td>\n",
       "      <td>Rahul Rawail</td>\n",
       "      <td>Bobby Deol</td>\n",
       "      <td>Aishwarya Rai Bachchan</td>\n",
       "      <td>Shammi Kapoor</td>\n",
       "    </tr>\n",
       "    <tr>\n",
       "      <th>6</th>\n",
       "      <td>...Yahaan</td>\n",
       "      <td>(2005)</td>\n",
       "      <td>142 min</td>\n",
       "      <td>Drama, Romance, War</td>\n",
       "      <td>7.4</td>\n",
       "      <td>1,086</td>\n",
       "      <td>Shoojit Sircar</td>\n",
       "      <td>Jimmy Sheirgill</td>\n",
       "      <td>Minissha Lamba</td>\n",
       "      <td>Yashpal Sharma</td>\n",
       "    </tr>\n",
       "    <tr>\n",
       "      <th>8</th>\n",
       "      <td>?: A Question Mark</td>\n",
       "      <td>(2012)</td>\n",
       "      <td>82 min</td>\n",
       "      <td>Horror, Mystery, Thriller</td>\n",
       "      <td>5.6</td>\n",
       "      <td>326</td>\n",
       "      <td>Allyson Patel</td>\n",
       "      <td>Yash Dave</td>\n",
       "      <td>Muntazir Ahmad</td>\n",
       "      <td>Kiran Bhatia</td>\n",
       "    </tr>\n",
       "  </tbody>\n",
       "</table>\n",
       "</div>"
      ],
      "text/plain": [
       "                                 Name    Year Duration  \\\n",
       "1  #Gadhvi (He thought he was Gandhi)  (2019)  109 min   \n",
       "3                             #Yaaram  (2019)  110 min   \n",
       "5                ...Aur Pyaar Ho Gaya  (1997)  147 min   \n",
       "6                           ...Yahaan  (2005)  142 min   \n",
       "8                  ?: A Question Mark  (2012)   82 min   \n",
       "\n",
       "                       Genre  Rating  Votes        Director          Actor 1  \\\n",
       "1                      Drama     7.0      8   Gaurav Bakshi     Rasika Dugal   \n",
       "3            Comedy, Romance     4.4     35      Ovais Khan          Prateik   \n",
       "5     Comedy, Drama, Musical     4.7    827    Rahul Rawail       Bobby Deol   \n",
       "6        Drama, Romance, War     7.4  1,086  Shoojit Sircar  Jimmy Sheirgill   \n",
       "8  Horror, Mystery, Thriller     5.6    326   Allyson Patel        Yash Dave   \n",
       "\n",
       "                  Actor 2          Actor 3  \n",
       "1          Vivek Ghamande    Arvind Jangid  \n",
       "3              Ishita Raj  Siddhant Kapoor  \n",
       "5  Aishwarya Rai Bachchan    Shammi Kapoor  \n",
       "6          Minissha Lamba   Yashpal Sharma  \n",
       "8          Muntazir Ahmad     Kiran Bhatia  "
      ]
     },
     "execution_count": 6,
     "metadata": {},
     "output_type": "execute_result"
    }
   ],
   "source": [
    "df.head()"
   ]
  },
  {
   "cell_type": "code",
   "execution_count": 28,
   "id": "b62fbde7",
   "metadata": {},
   "outputs": [
    {
     "data": {
      "text/plain": [
       "Name        0\n",
       "Year        0\n",
       "Duration    0\n",
       "Genre       0\n",
       "Rating      0\n",
       "Votes       0\n",
       "Director    0\n",
       "Actor 1     0\n",
       "Actor 2     0\n",
       "Actor 3     0\n",
       "dtype: int64"
      ]
     },
     "execution_count": 28,
     "metadata": {},
     "output_type": "execute_result"
    }
   ],
   "source": [
    "df.isnull().sum()"
   ]
  },
  {
   "cell_type": "markdown",
   "id": "9198c045",
   "metadata": {},
   "source": [
    "### Removing Duplicates from the Datasets"
   ]
  },
  {
   "cell_type": "code",
   "execution_count": 7,
   "id": "cc9b6622",
   "metadata": {},
   "outputs": [],
   "source": [
    "df.drop_duplicates(inplace=True)"
   ]
  },
  {
   "cell_type": "code",
   "execution_count": 8,
   "id": "652942b2",
   "metadata": {},
   "outputs": [
    {
     "data": {
      "text/html": [
       "<div>\n",
       "<style scoped>\n",
       "    .dataframe tbody tr th:only-of-type {\n",
       "        vertical-align: middle;\n",
       "    }\n",
       "\n",
       "    .dataframe tbody tr th {\n",
       "        vertical-align: top;\n",
       "    }\n",
       "\n",
       "    .dataframe thead th {\n",
       "        text-align: right;\n",
       "    }\n",
       "</style>\n",
       "<table border=\"1\" class=\"dataframe\">\n",
       "  <thead>\n",
       "    <tr style=\"text-align: right;\">\n",
       "      <th></th>\n",
       "      <th>Rating</th>\n",
       "    </tr>\n",
       "  </thead>\n",
       "  <tbody>\n",
       "    <tr>\n",
       "      <th>count</th>\n",
       "      <td>5659.000000</td>\n",
       "    </tr>\n",
       "    <tr>\n",
       "      <th>mean</th>\n",
       "      <td>5.898533</td>\n",
       "    </tr>\n",
       "    <tr>\n",
       "      <th>std</th>\n",
       "      <td>1.381165</td>\n",
       "    </tr>\n",
       "    <tr>\n",
       "      <th>min</th>\n",
       "      <td>1.100000</td>\n",
       "    </tr>\n",
       "    <tr>\n",
       "      <th>25%</th>\n",
       "      <td>5.000000</td>\n",
       "    </tr>\n",
       "    <tr>\n",
       "      <th>50%</th>\n",
       "      <td>6.100000</td>\n",
       "    </tr>\n",
       "    <tr>\n",
       "      <th>75%</th>\n",
       "      <td>6.900000</td>\n",
       "    </tr>\n",
       "    <tr>\n",
       "      <th>max</th>\n",
       "      <td>10.000000</td>\n",
       "    </tr>\n",
       "  </tbody>\n",
       "</table>\n",
       "</div>"
      ],
      "text/plain": [
       "            Rating\n",
       "count  5659.000000\n",
       "mean      5.898533\n",
       "std       1.381165\n",
       "min       1.100000\n",
       "25%       5.000000\n",
       "50%       6.100000\n",
       "75%       6.900000\n",
       "max      10.000000"
      ]
     },
     "execution_count": 8,
     "metadata": {},
     "output_type": "execute_result"
    }
   ],
   "source": [
    "df.describe()"
   ]
  },
  {
   "cell_type": "code",
   "execution_count": 10,
   "id": "439abd99",
   "metadata": {},
   "outputs": [
    {
     "name": "stdout",
     "output_type": "stream",
     "text": [
      "<class 'pandas.core.frame.DataFrame'>\n",
      "Int64Index: 5659 entries, 1 to 15508\n",
      "Data columns (total 10 columns):\n",
      " #   Column    Non-Null Count  Dtype  \n",
      "---  ------    --------------  -----  \n",
      " 0   Name      5659 non-null   object \n",
      " 1   Year      5659 non-null   object \n",
      " 2   Duration  5659 non-null   object \n",
      " 3   Genre     5659 non-null   object \n",
      " 4   Rating    5659 non-null   float64\n",
      " 5   Votes     5659 non-null   object \n",
      " 6   Director  5659 non-null   object \n",
      " 7   Actor 1   5659 non-null   object \n",
      " 8   Actor 2   5659 non-null   object \n",
      " 9   Actor 3   5659 non-null   object \n",
      "dtypes: float64(1), object(9)\n",
      "memory usage: 486.3+ KB\n"
     ]
    }
   ],
   "source": [
    "df.info()"
   ]
  },
  {
   "cell_type": "markdown",
   "id": "4f5bae83",
   "metadata": {},
   "source": [
    "### Data Visualization"
   ]
  },
  {
   "cell_type": "markdown",
   "id": "7f62c982",
   "metadata": {},
   "source": [
    "* Rating Distribution "
   ]
  },
  {
   "cell_type": "code",
   "execution_count": 11,
   "id": "f08e320c",
   "metadata": {},
   "outputs": [
    {
     "data": {
      "image/png": "[encoded data removed]",
      "text/plain": [
       "<Figure size 500x350 with 1 Axes>"
      ]
     },
     "metadata": {},
     "output_type": "display_data"
    }
   ],
   "source": [
    "plt.figure(figsize=(5,3.5))\n",
    "plt.hist(df['Rating'],bins= 20 , color= \"purple\", edgecolor= 'black')\n",
    "plt.xlabel('Rating')\n",
    "plt.ylabel('Frequency')\n",
    "plt.title('Distribution of Movie Rating')\n",
    "plt.show()"
   ]
  },
  {
   "cell_type": "markdown",
   "id": "51fa43b9",
   "metadata": {},
   "source": [
    "### Count Movies Each Year"
   ]
  },
  {
   "cell_type": "code",
   "execution_count": 83,
   "id": "43408f26",
   "metadata": {
    "scrolled": true
   },
   "outputs": [
    {
     "data": {
      "image/png": "[encoded data removed]",
      "text/plain": [
       "<Figure size 400x250 with 1 Axes>"
      ]
     },
     "metadata": {},
     "output_type": "display_data"
    }
   ],
   "source": [
    "years_10 = df['Year'].unique()[:10]\n",
    "\n",
    "# filter the Dataframe to include only data for these years\n",
    "filtered_data = df[df['Year'].isin(years_10)]\n",
    "\n",
    "# Create the Countplot with the filter data\n",
    "plt.figure(figsize=(4,2.5))\n",
    "sns.countplot(data=filtered_data, x= 'Year')\n",
    "plt.xlabel('Year')\n",
    "plt.ylabel('Number Of Movies')\n",
    "plt.title('Number of Movies Released Each Year')\n",
    "plt.xticks(rotation=90)\n",
    "plt.show()\n",
    "\n"
   ]
  },
  {
   "cell_type": "code",
   "execution_count": 82,
   "id": "b145b59f",
   "metadata": {},
   "outputs": [
    {
     "data": {
      "image/png": "[encoded data removed]",
      "text/plain": [
       "<Figure size 500x500 with 1 Axes>"
      ]
     },
     "metadata": {},
     "output_type": "display_data"
    }
   ],
   "source": [
    "sns.displot(df[\"Rating\"],kind='kde',color='red')\n",
    "plt.show()"
   ]
  },
  {
   "cell_type": "code",
   "execution_count": 39,
   "id": "328524ee",
   "metadata": {},
   "outputs": [],
   "source": [
    "df.drop(['Duration'],axis=1,inplace=True)"
   ]
  },
  {
   "cell_type": "code",
   "execution_count": 40,
   "id": "7a407caf",
   "metadata": {},
   "outputs": [
    {
     "data": {
      "text/plain": [
       "Index(['Name', 'Year', 'Genre', 'Rating', 'Votes', 'Director', 'Actor 1',\n",
       "       'Actor 2', 'Actor 3'],\n",
       "      dtype='object')"
      ]
     },
     "execution_count": 40,
     "metadata": {},
     "output_type": "execute_result"
    }
   ],
   "source": [
    "df.columns"
   ]
  },
  {
   "cell_type": "code",
   "execution_count": 41,
   "id": "403f1264",
   "metadata": {},
   "outputs": [],
   "source": [
    "x = df[['Year', 'Genre','Director', 'Actor 1','Actor 2', 'Actor 3']]"
   ]
  },
  {
   "cell_type": "code",
   "execution_count": 42,
   "id": "8b90ad75",
   "metadata": {},
   "outputs": [],
   "source": [
    "y = df['Rating']"
   ]
  },
  {
   "cell_type": "code",
   "execution_count": 59,
   "id": "2f40ea84",
   "metadata": {},
   "outputs": [],
   "source": [
    "# Removing commas and convert 'Votes' column to float\n",
    "df['Votes']= df['Votes'].replace(\",\",\"\",regex=True).astype(float)\n"
   ]
  },
  {
   "cell_type": "code",
   "execution_count": 62,
   "id": "2b3ba0c5",
   "metadata": {},
   "outputs": [],
   "source": [
    "# select numaric columns\n",
    "numaric_columns = df.select_dtypes(include=['float64','int64'])\n",
    "\n",
    "# saperate  your feature (x) and target (y)\n",
    "x = numaric_columns.drop('Rating',axis=1) #Exclude the Rating Column\n",
    "y = df[\"Rating\"]"
   ]
  },
  {
   "cell_type": "code",
   "execution_count": 63,
   "id": "f35d8157",
   "metadata": {},
   "outputs": [],
   "source": [
    "from sklearn.model_selection import train_test_split\n",
    "from sklearn.linear_model import LinearRegression\n",
    "from sklearn.metrics import mean_absolute_error,r2_score\n"
   ]
  },
  {
   "cell_type": "code",
   "execution_count": 64,
   "id": "8247de8c",
   "metadata": {},
   "outputs": [],
   "source": [
    "# Split the data into training  and testing sets\n",
    "x_train ,x_test,y_train,y_test = train_test_split(x,y,test_size=0.2,random_state=42)"
   ]
  },
  {
   "cell_type": "code",
   "execution_count": 66,
   "id": "6e4fafc2",
   "metadata": {},
   "outputs": [
    {
     "data": {
      "text/html": [
       "<style>#sk-container-id-1 {color: black;background-color: white;}#sk-container-id-1 pre{padding: 0;}#sk-container-id-1 div.sk-toggleable {background-color: white;}#sk-container-id-1 label.sk-toggleable__label {cursor: pointer;display: block;width: 100%;margin-bottom: 0;padding: 0.3em;box-sizing: border-box;text-align: center;}#sk-container-id-1 label.sk-toggleable__label-arrow:before {content: \"▸\";float: left;margin-right: 0.25em;color: #696969;}#sk-container-id-1 label.sk-toggleable__label-arrow:hover:before {color: black;}#sk-container-id-1 div.sk-estimator:hover label.sk-toggleable__label-arrow:before {color: black;}#sk-container-id-1 div.sk-toggleable__content {max-height: 0;max-width: 0;overflow: hidden;text-align: left;background-color: #f0f8ff;}#sk-container-id-1 div.sk-toggleable__content pre {margin: 0.2em;color: black;border-radius: 0.25em;background-color: #f0f8ff;}#sk-container-id-1 input.sk-toggleable__control:checked~div.sk-toggleable__content {max-height: 200px;max-width: 100%;overflow: auto;}#sk-container-id-1 input.sk-toggleable__control:checked~label.sk-toggleable__label-arrow:before {content: \"▾\";}#sk-container-id-1 div.sk-estimator input.sk-toggleable__control:checked~label.sk-toggleable__label {background-color: #d4ebff;}#sk-container-id-1 div.sk-label input.sk-toggleable__control:checked~label.sk-toggleable__label {background-color: #d4ebff;}#sk-container-id-1 input.sk-hidden--visually {border: 0;clip: rect(1px 1px 1px 1px);clip: rect(1px, 1px, 1px, 1px);height: 1px;margin: -1px;overflow: hidden;padding: 0;position: absolute;width: 1px;}#sk-container-id-1 div.sk-estimator {font-family: monospace;background-color: #f0f8ff;border: 1px dotted black;border-radius: 0.25em;box-sizing: border-box;margin-bottom: 0.5em;}#sk-container-id-1 div.sk-estimator:hover {background-color: #d4ebff;}#sk-container-id-1 div.sk-parallel-item::after {content: \"\";width: 100%;border-bottom: 1px solid gray;flex-grow: 1;}#sk-container-id-1 div.sk-label:hover label.sk-toggleable__label {background-color: #d4ebff;}#sk-container-id-1 div.sk-serial::before {content: \"\";position: absolute;border-left: 1px solid gray;box-sizing: border-box;top: 0;bottom: 0;left: 50%;z-index: 0;}#sk-container-id-1 div.sk-serial {display: flex;flex-direction: column;align-items: center;background-color: white;padding-right: 0.2em;padding-left: 0.2em;position: relative;}#sk-container-id-1 div.sk-item {position: relative;z-index: 1;}#sk-container-id-1 div.sk-parallel {display: flex;align-items: stretch;justify-content: center;background-color: white;position: relative;}#sk-container-id-1 div.sk-item::before, #sk-container-id-1 div.sk-parallel-item::before {content: \"\";position: absolute;border-left: 1px solid gray;box-sizing: border-box;top: 0;bottom: 0;left: 50%;z-index: -1;}#sk-container-id-1 div.sk-parallel-item {display: flex;flex-direction: column;z-index: 1;position: relative;background-color: white;}#sk-container-id-1 div.sk-parallel-item:first-child::after {align-self: flex-end;width: 50%;}#sk-container-id-1 div.sk-parallel-item:last-child::after {align-self: flex-start;width: 50%;}#sk-container-id-1 div.sk-parallel-item:only-child::after {width: 0;}#sk-container-id-1 div.sk-dashed-wrapped {border: 1px dashed gray;margin: 0 0.4em 0.5em 0.4em;box-sizing: border-box;padding-bottom: 0.4em;background-color: white;}#sk-container-id-1 div.sk-label label {font-family: monospace;font-weight: bold;display: inline-block;line-height: 1.2em;}#sk-container-id-1 div.sk-label-container {text-align: center;}#sk-container-id-1 div.sk-container {/* jupyter's `normalize.less` sets `[hidden] { display: none; }` but bootstrap.min.css set `[hidden] { display: none !important; }` so we also need the `!important` here to be able to override the default hidden behavior on the sphinx rendered scikit-learn.org. See: https://github.com/scikit-learn/scikit-learn/issues/21755 */display: inline-block !important;position: relative;}#sk-container-id-1 div.sk-text-repr-fallback {display: none;}</style><div id=\"sk-container-id-1\" class=\"sk-top-container\"><div class=\"sk-text-repr-fallback\"><pre>LinearRegression()</pre><b>In a Jupyter environment, please rerun this cell to show the HTML representation or trust the notebook. <br />On GitHub, the HTML representation is unable to render, please try loading this page with nbviewer.org.</b></div><div class=\"sk-container\" hidden><div class=\"sk-item\"><div class=\"sk-estimator sk-toggleable\"><input class=\"sk-toggleable__control sk-hidden--visually\" id=\"sk-estimator-id-1\" type=\"checkbox\" checked><label for=\"sk-estimator-id-1\" class=\"sk-toggleable__label sk-toggleable__label-arrow\">LinearRegression</label><div class=\"sk-toggleable__content\"><pre>LinearRegression()</pre></div></div></div></div></div>"
      ],
      "text/plain": [
       "LinearRegression()"
      ]
     },
     "execution_count": 66,
     "metadata": {},
     "output_type": "execute_result"
    }
   ],
   "source": [
    "# Create and train a Linear reggresion model\n",
    "model = LinearRegression()\n",
    "model.fit(x_train,y_train)"
   ]
  },
  {
   "cell_type": "code",
   "execution_count": 67,
   "id": "488e386f",
   "metadata": {},
   "outputs": [],
   "source": [
    "# make prediction on test set\n",
    "y_prediction = model.predict(x_test)"
   ]
  },
  {
   "cell_type": "code",
   "execution_count": 72,
   "id": "08a4ce6c",
   "metadata": {},
   "outputs": [
    {
     "name": "stdout",
     "output_type": "stream",
     "text": [
      "mean Squared Error: 1.8069817836031192\n",
      "R-squared: 0.024172818209248548\n"
     ]
    }
   ],
   "source": [
    "# Evaluate the model\n",
    "mse = mean_squared_error(y_test,y_prediction)\n",
    "r2 = r2_score(y_test,y_prediction)\n",
    "\n",
    "print(\"mean Squared Error:\",mse)\n",
    "print(\"R-squared:\",r2)"
   ]
  },
  {
   "cell_type": "code",
   "execution_count": null,
   "id": "1a3ceb50",
   "metadata": {},
   "outputs": [],
   "source": []
  }
 ],
 "metadata": {
  "kernelspec": {
   "display_name": "Python 3 (ipykernel)",
   "language": "python",
   "name": "python3"
  },
  "language_info": {
   "codemirror_mode": {
    "name": "ipython",
    "version": 3
   },
   "file_extension": ".py",
   "mimetype": "text/x-python",
   "name": "python",
   "nbconvert_exporter": "python",
   "pygments_lexer": "ipython3",
   "version": "3.11.3"
  }
 },
 "nbformat": 4,
 "nbformat_minor": 5
}
